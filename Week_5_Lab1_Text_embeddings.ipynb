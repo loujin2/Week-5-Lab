{
 "cells": [
  {
   "cell_type": "markdown",
   "metadata": {
    "colab_type": "text",
    "id": "Q7Otd3zXN_u6"
   },
   "source": [
    "## Week 5 Lab - Text embeddings"
   ]
  },
  {
   "cell_type": "markdown",
   "metadata": {
    "colab_type": "text",
    "id": "GE91qWZkm8ZQ"
   },
   "source": [
    "##### Based in part on Tutorial by TensorFlow Authors\n",
    "##### Copyright 2019 The TensorFlow Authors."
   ]
  },
  {
   "cell_type": "markdown",
   "metadata": {
    "colab_type": "text",
    "id": "7SN5USFEIIK3"
   },
   "source": [
    "# Word embeddings"
   ]
  },
  {
   "cell_type": "markdown",
   "metadata": {
    "colab_type": "text",
    "id": "Q6mJg1g3apaz"
   },
   "source": [
    "This lab introduces word embeddings. It contains complete code to train word embeddings from scratch on a small dataset, and to visualize these embeddings using the [Embedding Projector](http://projector.tensorflow.org).\n",
    "\n",
    "\n",
    "### Word embeddings\n",
    "\n",
    "Word embeddings give us a way to use an efficient, dense representation in which similar words have a similar encoding. Importantly, we do not have to specify this encoding by hand. An embedding is a dense vector of floating point values (the length of the vector is a parameter you specify). Instead of specifying the values for the embedding manually, they are trainable parameters (weights learned by the model during training, in the same way a model learns weights for a dense layer). It is common to see word embeddings that are 8-dimensional (for small datasets), up to 1024-dimensions when working with large datasets. A higher dimensional embedding can capture fine-grained relationships between words, but takes more data to learn.\n",
    "\n",
    "<img src=\"https://github.com/tensorflow/docs/blob/master/site/en/tutorials/text/images/embedding2.png?raw=1\" alt=\"Diagram of an embedding\" width=\"400\"/>\n",
    "\n",
    "Above is a diagram for a word embedding. Each word is represented as a 4-dimensional vector of floating point values. Another way to think of an embedding is as \"lookup table\". After these weights have been learned, we can encode each word by looking up the dense vector it corresponds to in the table."
   ]
  },
  {
   "cell_type": "markdown",
   "metadata": {
    "colab_type": "text",
    "id": "SZUQErGewZxE"
   },
   "source": [
    "## Setup"
   ]
  },
  {
   "cell_type": "code",
   "execution_count": 1,
   "metadata": {
    "colab": {},
    "colab_type": "code",
    "id": "SIXEk5ON5P7h"
   },
   "outputs": [],
   "source": [
    "from __future__ import absolute_import, division, print_function, unicode_literals\n",
    "\n",
    "#try:\n",
    "  # %tensorflow_version only exists in Colab.\n",
    "#  !pip install tf-nightly\n",
    "#except Exception:\n",
    "#  pass\n",
    "\n",
    "import tensorflow as tf\n",
    "\n",
    "#tf.enable_eager_execution()"
   ]
  },
  {
   "cell_type": "code",
   "execution_count": 2,
   "metadata": {
    "colab": {},
    "colab_type": "code",
    "id": "RutaI-Tpev3T"
   },
   "outputs": [],
   "source": [
    "from tensorflow import keras\n",
    "from tensorflow.keras import layers\n",
    "\n",
    "import tensorflow_datasets as tfds\n",
    "tfds.disable_progress_bar()"
   ]
  },
  {
   "cell_type": "markdown",
   "metadata": {
    "colab_type": "text",
    "id": "eqBazMiVQkj1"
   },
   "source": [
    "## Using the Embedding layer\n",
    "\n",
    "Keras makes it easy to use word embeddings. Let's take a look at the [Embedding](https://www.tensorflow.org/api_docs/python/tf/keras/layers/Embedding) layer.\n",
    "\n",
    "The Embedding layer can be understood as a lookup table that maps from integer indices (which stand for specific words) to dense vectors (their embeddings). The dimensionality (or width) of the embedding is a parameter you can experiment with to see what works well for your problem, much in the same way you would experiment with the number of neurons in a Dense layer.\n",
    "\n"
   ]
  },
  {
   "cell_type": "code",
   "execution_count": 3,
   "metadata": {
    "colab": {},
    "colab_type": "code",
    "id": "-OjxLVrMvWUE"
   },
   "outputs": [],
   "source": [
    "embedding_layer = layers.Embedding(1000, 5)"
   ]
  },
  {
   "cell_type": "markdown",
   "metadata": {
    "colab_type": "text",
    "id": "2dKKV1L2Rk7e"
   },
   "source": [
    "\n",
    "\n",
    "When you create an Embedding layer, the weights for the embedding are randomly initialized (just like any other layer). During training, they are gradually adjusted via backpropagation. Once trained, the learned word embeddings will roughly encode similarities between words (as they were learned for the specific problem your model is trained on).\n",
    "\n",
    "If you pass an integer to an embedding layer, the result replaces each integer with the vector from the embedding table:"
   ]
  },
  {
   "cell_type": "code",
   "execution_count": 4,
   "metadata": {
    "colab": {},
    "colab_type": "code",
    "id": "0YUjPgP7w0PO"
   },
   "outputs": [
    {
     "data": {
      "text/plain": [
       "array([[ 0.04742691, -0.01407509,  0.02445979,  0.01375682,  0.01922007],\n",
       "       [-0.04906918,  0.01908152, -0.02545502,  0.00906004, -0.03866533],\n",
       "       [-0.02589723, -0.01202827,  0.02481641,  0.01827976,  0.02717941]],\n",
       "      dtype=float32)"
      ]
     },
     "execution_count": 4,
     "metadata": {},
     "output_type": "execute_result"
    }
   ],
   "source": [
    "result = embedding_layer(tf.constant([1,2,3]))\n",
    "result.numpy()"
   ]
  },
  {
   "cell_type": "markdown",
   "metadata": {
    "colab_type": "text",
    "id": "O4PC4QzsxTGx"
   },
   "source": [
    "For text or sequence problems, the Embedding layer takes a 2D tensor of integers, of shape `(samples, sequence_length)`, where each entry is a sequence of integers. It can embed sequences of variable lengths. You could feed into the embedding layer above batches with shapes `(32, 10)` (batch of 32 sequences of length 10) or `(64, 15)` (batch of 64 sequences of length 15).\n",
    "\n",
    "The returned tensor has one more axis than the input, the embedding vectors are aligned along the new last axis. Pass it a `(2, 3)` input batch and the output is `(2, 3, N)`\n"
   ]
  },
  {
   "cell_type": "code",
   "execution_count": 5,
   "metadata": {
    "colab": {},
    "colab_type": "code",
    "id": "vwSYepRjyRGy"
   },
   "outputs": [
    {
     "data": {
      "text/plain": [
       "TensorShape([2, 3, 5])"
      ]
     },
     "execution_count": 5,
     "metadata": {},
     "output_type": "execute_result"
    }
   ],
   "source": [
    "result = embedding_layer(tf.constant([[0,1,2],[3,4,5]]))\n",
    "result.shape"
   ]
  },
  {
   "cell_type": "markdown",
   "metadata": {
    "colab_type": "text",
    "id": "WGQp2N92yOyB"
   },
   "source": [
    "When given a batch of sequences as input, an embedding layer returns a 3D floating point tensor, of shape `(samples, sequence_length, embedding_dimensionality)`. To convert from this sequence of variable length to a fixed representation there are a variety of standard approaches. You could use an RNN, Attention, or pooling layer before passing it to a Dense layer. This tutorial uses pooling because it's simplest. The [Text Classification with an RNN](text_classification_rnn.ipynb) tutorial is a good next step."
   ]
  },
  {
   "cell_type": "markdown",
   "metadata": {
    "colab_type": "text",
    "id": "aGicgV5qT0wh"
   },
   "source": [
    "## Learning embeddings from scratch"
   ]
  },
  {
   "cell_type": "markdown",
   "metadata": {
    "colab_type": "text",
    "id": "_Bh8B1TUT6mV"
   },
   "source": [
    "In this lab you will train a sentiment classifier on IMDB movie reviews. In the process, the model will learn embeddings from scratch. We will use to a preprocessed dataset.\n"
   ]
  },
  {
   "cell_type": "code",
   "execution_count": 6,
   "metadata": {
    "colab": {},
    "colab_type": "code",
    "id": "yg6tyxPtp1TE"
   },
   "outputs": [
    {
     "name": "stderr",
     "output_type": "stream",
     "text": [
      "WARNING:absl:Warning: Setting shuffle_files=True because split=TRAIN and shuffle_files=None. This behavior will be deprecated on 2019-08-06, at which point shuffle_files=False will be the default for all splits.\n"
     ]
    }
   ],
   "source": [
    "(train_data, test_data), info = tfds.load(\n",
    "    'imdb_reviews/subwords8k', \n",
    "    split = (tfds.Split.TRAIN, tfds.Split.TEST), \n",
    "    with_info=True, as_supervised=True)"
   ]
  },
  {
   "cell_type": "markdown",
   "metadata": {
    "colab_type": "text",
    "id": "jjnBsFXaLVPL"
   },
   "source": [
    "Get the encoder (`tfds.features.text.SubwordTextEncoder`), and have a quick look at the vocabulary. \n",
    "\n",
    "The \"\\_\" in the vocabulary represent spaces. Note how the vocabulary includes whole words (ending with \"\\_\") and partial words which it can use to build larger words:"
   ]
  },
  {
   "cell_type": "code",
   "execution_count": 7,
   "metadata": {
    "colab": {},
    "colab_type": "code",
    "id": "MYrsTgxhLBfl"
   },
   "outputs": [
    {
     "data": {
      "text/plain": [
       "['the_',\n",
       " ', ',\n",
       " '. ',\n",
       " 'a_',\n",
       " 'and_',\n",
       " 'of_',\n",
       " 'to_',\n",
       " 's_',\n",
       " 'is_',\n",
       " 'br',\n",
       " 'in_',\n",
       " 'I_',\n",
       " 'that_',\n",
       " 'this_',\n",
       " 'it_',\n",
       " ' /><',\n",
       " ' />',\n",
       " 'was_',\n",
       " 'The_',\n",
       " 'as_']"
      ]
     },
     "execution_count": 7,
     "metadata": {},
     "output_type": "execute_result"
    }
   ],
   "source": [
    "encoder = info.features['text'].encoder\n",
    "encoder.subwords[:20]"
   ]
  },
  {
   "cell_type": "markdown",
   "metadata": {
    "colab_type": "text",
    "id": "GwCTfSG63Qth"
   },
   "source": [
    "Movie reviews can be different lengths. We will use the `padded_batch` method to standardize the lengths of the reviews."
   ]
  },
  {
   "cell_type": "code",
   "execution_count": 8,
   "metadata": {
    "colab": {},
    "colab_type": "code",
    "id": "LwSCxER_2Lef"
   },
   "outputs": [],
   "source": [
    "padded_shapes = ([None],())\n",
    "train_batches = train_data.shuffle(1000).padded_batch(10, padded_shapes = padded_shapes)\n",
    "test_batches = test_data.shuffle(1000).padded_batch(10, padded_shapes = padded_shapes)"
   ]
  },
  {
   "cell_type": "markdown",
   "metadata": {
    "colab_type": "text",
    "id": "dF8ORMt2U9lj"
   },
   "source": [
    "As imported, the text of reviews is integer-encoded (each integer represents a specific word or word-part in the vocabulary).\n",
    "\n",
    "Note the trailing zeros, because the batch is padded to the longest example."
   ]
  },
  {
   "cell_type": "code",
   "execution_count": 9,
   "metadata": {
    "colab": {},
    "colab_type": "code",
    "id": "Se-phCknsoan"
   },
   "outputs": [
    {
     "data": {
      "text/plain": [
       "array([[ 972, 7994,    3, ...,    0,    0,    0],\n",
       "       [7969,  948, 8001, ...,    0,    0,    0],\n",
       "       [ 404,  414,  338, ...,   13,  204, 2885],\n",
       "       ...,\n",
       "       [8002, 7968,  111, ...,    0,    0,    0],\n",
       "       [ 274,  655,    9, ...,    0,    0,    0],\n",
       "       [1379, 4940, 7961, ...,    0,    0,    0]], dtype=int64)"
      ]
     },
     "execution_count": 9,
     "metadata": {},
     "output_type": "execute_result"
    }
   ],
   "source": [
    "train_batch, train_labels = next(iter(train_batches))\n",
    "train_batch.numpy()"
   ]
  },
  {
   "cell_type": "markdown",
   "metadata": {
    "colab_type": "text",
    "id": "zI9_wLIiWO8Z"
   },
   "source": [
    "### Create a simple model\n",
    "\n",
    "We will use the [Keras Sequential API](../../guide/keras) to define our model. In this case it is a \"Continuous bag of words\" style model.\n",
    "\n",
    "* Next the Embedding layer takes the integer-encoded vocabulary and looks up the embedding vector for each word-index. These vectors are learned as the model trains. The vectors add a dimension to the output array. The resulting dimensions are: `(batch, sequence, embedding)`.\n",
    "\n",
    "* Next, a GlobalAveragePooling1D layer returns a fixed-length output vector for each example by averaging over the sequence dimension. This allows the model to handle input of variable length, in the simplest way possible.\n",
    "\n",
    "* This fixed-length output vector is piped through a fully-connected (Dense) layer with 16 hidden units.\n",
    "\n",
    "* The last layer is densely connected with a single output node. Using the sigmoid activation function, this value is a float between 0 and 1, representing a probability (or confidence level) that the review is positive.\n",
    "\n",
    "Caution: This model doesn't use masking, so the zero-padding is used as part of the input, so the padding length may affect the output.  To fix this, see the [masking and padding guide](../../guide/keras/masking_and_padding)."
   ]
  },
  {
   "cell_type": "code",
   "execution_count": 10,
   "metadata": {
    "colab": {},
    "colab_type": "code",
    "id": "pHLcFtn5Wsqj"
   },
   "outputs": [
    {
     "name": "stdout",
     "output_type": "stream",
     "text": [
      "Model: \"sequential\"\n",
      "_________________________________________________________________\n",
      "Layer (type)                 Output Shape              Param #   \n",
      "=================================================================\n",
      "embedding_1 (Embedding)      (None, None, 16)          130960    \n",
      "_________________________________________________________________\n",
      "global_average_pooling1d (Gl (None, 16)                0         \n",
      "_________________________________________________________________\n",
      "dense (Dense)                (None, 16)                272       \n",
      "_________________________________________________________________\n",
      "dense_1 (Dense)              (None, 1)                 17        \n",
      "=================================================================\n",
      "Total params: 131,249\n",
      "Trainable params: 131,249\n",
      "Non-trainable params: 0\n",
      "_________________________________________________________________\n"
     ]
    }
   ],
   "source": [
    "embedding_dim=16\n",
    "\n",
    "model = keras.Sequential([\n",
    "  layers.Embedding(encoder.vocab_size, embedding_dim),\n",
    "  layers.GlobalAveragePooling1D(),\n",
    "  layers.Dense(16, activation='relu'),\n",
    "  layers.Dense(1)\n",
    "])\n",
    "\n",
    "model.summary()"
   ]
  },
  {
   "cell_type": "markdown",
   "metadata": {
    "colab_type": "text",
    "id": "tgLcXzktRZA6"
   },
   "source": [
    "## Review questions on embedding model\n",
    "1. What is encoder.vocab_size? What does this number represent? What happens in an input has a word that is not in the encoder vocab?\n",
    "2. What is the embedding dimension? What does this number represent? \n",
    "3. What are the benefits and drawbacks of having a larger embedding dimensionality?"
   ]
  },
  {
   "cell_type": "code",
   "execution_count": 11,
   "metadata": {
    "colab": {},
    "colab_type": "code",
    "id": "CTwJGmUqTsV5"
   },
   "outputs": [
    {
     "name": "stdout",
     "output_type": "stream",
     "text": [
      "8185\n"
     ]
    }
   ],
   "source": [
    "print(encoder.vocab_size)"
   ]
  },
  {
   "cell_type": "markdown",
   "metadata": {},
   "source": [
    "(1) The encoder.vocab_size represents the size of vocabulary corpus in the encoder, which is 8185. For an input word that doesn't in the encoder vocab, it will looks up for similar subwords or partial words that could be used to build larger words."
   ]
  },
  {
   "cell_type": "code",
   "execution_count": 12,
   "metadata": {},
   "outputs": [
    {
     "name": "stdout",
     "output_type": "stream",
     "text": [
      "16\n"
     ]
    }
   ],
   "source": [
    "print(embedding_dim)"
   ]
  },
  {
   "cell_type": "markdown",
   "metadata": {},
   "source": [
    "(2) The embedding dimension is where the words will be embeded. 16 represent the number of dense vectors, which are the embeddings."
   ]
  },
  {
   "cell_type": "markdown",
   "metadata": {},
   "source": [
    "(3) A larger embedding dimensionality is able to capture more fine-grained relationships between words, but it also needs to take more data to learn."
   ]
  },
  {
   "cell_type": "markdown",
   "metadata": {
    "colab_type": "text",
    "id": "JjLNgKO7W2fe"
   },
   "source": [
    "### Compile and train the model"
   ]
  },
  {
   "cell_type": "code",
   "execution_count": 13,
   "metadata": {
    "colab": {},
    "colab_type": "code",
    "id": "lCUgdP69Wzix"
   },
   "outputs": [
    {
     "name": "stdout",
     "output_type": "stream",
     "text": [
      "Epoch 1/10\n",
      "2500/2500 [==============================]8 - accuracy: 0.50 - 0s 1ms/step - loss: 0.6932 - accuracy: 0.494 - 0s 1ms/step - loss: 0.6932 - accuracy: 0.501 - 0s 2ms/step - loss: 0.6929 - accuracy: 0.514 - 0s 2ms/step - loss: 0.6930 - accuracy: 0.507 - 0s 2ms/step - loss: 0.6929 - accuracy: 0.498 - 0s 2ms/step - loss: 0.6928 - accuracy: 0.505 - 0s 2ms/step - loss: 0.6925 - accuracy: 0.509 - 0s 2ms/step - loss: 0.6924 - accuracy: 0.505 - 0s 2ms/step - loss: 0.6922 - accuracy: 0.501 - 1s 2ms/step - loss: 0.6920 - accuracy: 0.500 - 1s 2ms/step - loss: 0.6917 - accuracy: 0.499 - 1s 2ms/step - loss: 0.6914 - accuracy: 0.501 - 1s 2ms/step - loss: 0.6910 - accuracy: 0.502 - 1s 2ms/step - loss: 0.6904 - accuracy: 0.504 - 1s 2ms/step - loss: 0.6894 - accuracy: 0.506 - 1s 2ms/step - loss: 0.6886 - accuracy: 0.507 - 1s 2ms/step - loss: 0.6881 - accuracy: 0.505 - 1s 2ms/step - loss: 0.6874 - accuracy: 0.505 - 1s 2ms/step - loss: 0.6866 - accuracy: 0.506 - 1s 2ms/step - loss: 0.6851 - accuracy: 0.506 - 1s 2ms/step - loss: 0.6837 - accuracy: 0.508 - 1s 2ms/step - loss: 0.6818 - accuracy: 0.509 - 1s 2ms/step - loss: 0.6800 - accuracy: 0.509 - 1s 2ms/step - loss: 0.6783 - accuracy: 0.511 - 1s 2ms/step - loss: 0.6759 - accuracy: 0.512 - 1s 2ms/step - loss: 0.6731 - accuracy: 0.515 - 1s 2ms/step - loss: 0.6712 - accuracy: 0.515 - 1s 2ms/step - loss: 0.6689 - accuracy: 0.517 - 1s 2ms/step - loss: 0.6654 - accuracy: 0.522 - 2s 2ms/step - loss: 0.6626 - accuracy: 0.528 - 2s 2ms/step - loss: 0.6588 - accuracy: 0.533 - 2s 2ms/step - loss: 0.6557 - accuracy: 0.537 - 2s 2ms/step - loss: 0.6517 - accuracy: 0.542 - 2s 2ms/step - loss: 0.6480 - accuracy: 0.547 - 2s 2ms/step - loss: 0.6436 - accuracy: 0.551 - 2s 2ms/step - loss: 0.6387 - accuracy: 0.557 - 2s 2ms/step - loss: 0.6349 - accuracy: 0.561 - 2s 2ms/step - loss: 0.6316 - accuracy: 0.567 - 2s 2ms/step - loss: 0.6279 - accuracy: 0.571 - 2s 2ms/step - loss: 0.6242 - accuracy: 0.577 - 2s 2ms/step - loss: 0.6206 - accuracy: 0.581 - 2s 2ms/step - loss: 0.6161 - accuracy: 0.586 - 2s 2ms/step - loss: 0.6117 - accuracy: 0.591 - 2s 2ms/step - loss: 0.6072 - accuracy: 0.595 - 2s 2ms/step - loss: 0.6035 - accuracy: 0.599 - 2s 2ms/step - loss: 0.5996 - accuracy: 0.604 - 2s 2ms/step - loss: 0.5963 - accuracy: 0.607 - 2s 2ms/step - loss: 0.5942 - accuracy: 0.609 - 3s 2ms/step - loss: 0.5918 - accuracy: 0.612 - 3s 2ms/step - loss: 0.5887 - accuracy: 0.616 - 3s 2ms/step - loss: 0.5854 - accuracy: 0.619 - 3s 2ms/step - loss: 0.5829 - accuracy: 0.622 - 3s 2ms/step - loss: 0.5792 - accuracy: 0.626 - 3s 2ms/step - loss: 0.5765 - accuracy: 0.629 - 3s 2ms/step - loss: 0.5738 - accuracy: 0.632 - 3s 2ms/step - loss: 0.5722 - accuracy: 0.633 - 3s 2ms/step - loss: 0.5697 - accuracy: 0.636 - 3s 2ms/step - loss: 0.5679 - accuracy: 0.638 - 3s 2ms/step - loss: 0.5653 - accuracy: 0.641 - 3s 2ms/step - loss: 0.5640 - accuracy: 0.643 - 3s 2ms/step - loss: 0.5621 - accuracy: 0.645 - 3s 2ms/step - loss: 0.5601 - accuracy: 0.647 - 3s 2ms/step - loss: 0.5579 - accuracy: 0.649 - 3s 2ms/step - loss: 0.5563 - accuracy: 0.651 - 3s 2ms/step - loss: 0.5550 - accuracy: 0.653 - 3s 2ms/step - loss: 0.5526 - accuracy: 0.655 - 3s 2ms/step - loss: 0.5506 - accuracy: 0.657 - 3s 2ms/step - loss: 0.5484 - accuracy: 0.659 - 4s 2ms/step - loss: 0.5463 - accuracy: 0.662 - 4s 2ms/step - loss: 0.5434 - accuracy: 0.664 - 4s 2ms/step - loss: 0.5404 - accuracy: 0.667 - 4s 2ms/step - loss: 0.5381 - accuracy: 0.670 - 4s 2ms/step - loss: 0.5362 - accuracy: 0.671 - 4s 2ms/step - loss: 0.5345 - accuracy: 0.674 - 4s 2ms/step - loss: 0.5319 - accuracy: 0.676 - 4s 2ms/step - loss: 0.5303 - accuracy: 0.678 - 4s 2ms/step - loss: 0.5287 - accuracy: 0.680 - 4s 2ms/step - loss: 0.5263 - accuracy: 0.682 - 4s 2ms/step - loss: 0.5245 - accuracy: 0.684 - 4s 2ms/step - loss: 0.5226 - accuracy: 0.686 - 4s 2ms/step - loss: 0.5205 - accuracy: 0.688 - 4s 2ms/step - loss: 0.5182 - accuracy: 0.690 - 5s 2ms/step - loss: 0.5175 - accuracy: 0.6909 - val_loss: 0.3608 - val_accuracy: 0.8400\n",
      "Epoch 2/10\n",
      "2500/2500 [==============================] - ETA: 0s - loss: 0.2190 - accuracy: 0.90 - ETA: 4s - loss: 0.3448 - accuracy: 0.87 - ETA: 4s - loss: 0.3365 - accuracy: 0.87 - ETA: 4s - loss: 0.3465 - accuracy: 0.85 - ETA: 4s - loss: 0.3496 - accuracy: 0.85 - ETA: 4s - loss: 0.3492 - accuracy: 0.85 - ETA: 4s - loss: 0.3476 - accuracy: 0.85 - ETA: 4s - loss: 0.3512 - accuracy: 0.84 - ETA: 4s - loss: 0.3514 - accuracy: 0.84 - ETA: 4s - loss: 0.3482 - accuracy: 0.85 - ETA: 4s - loss: 0.3418 - accuracy: 0.85 - ETA: 3s - loss: 0.3438 - accuracy: 0.85 - ETA: 3s - loss: 0.3376 - accuracy: 0.85 - ETA: 3s - loss: 0.3367 - accuracy: 0.85 - ETA: 3s - loss: 0.3299 - accuracy: 0.85 - ETA: 3s - loss: 0.3303 - accuracy: 0.85 - ETA: 3s - loss: 0.3285 - accuracy: 0.85 - ETA: 3s - loss: 0.3293 - accuracy: 0.85 - ETA: 3s - loss: 0.3271 - accuracy: 0.85 - ETA: 3s - loss: 0.3267 - accuracy: 0.85 - ETA: 3s - loss: 0.3237 - accuracy: 0.86 - ETA: 3s - loss: 0.3239 - accuracy: 0.85 - ETA: 3s - loss: 0.3228 - accuracy: 0.85 - ETA: 3s - loss: 0.3215 - accuracy: 0.86 - ETA: 3s - loss: 0.3188 - accuracy: 0.86 - ETA: 2s - loss: 0.3194 - accuracy: 0.86 - ETA: 2s - loss: 0.3184 - accuracy: 0.86 - ETA: 2s - loss: 0.3180 - accuracy: 0.86 - ETA: 2s - loss: 0.3148 - accuracy: 0.86 - ETA: 2s - loss: 0.3124 - accuracy: 0.86 - ETA: 2s - loss: 0.3125 - accuracy: 0.86 - ETA: 2s - loss: 0.3141 - accuracy: 0.86 - ETA: 2s - loss: 0.3132 - accuracy: 0.86 - ETA: 2s - loss: 0.3124 - accuracy: 0.86 - ETA: 2s - loss: 0.3117 - accuracy: 0.86 - ETA: 2s - loss: 0.3119 - accuracy: 0.86 - ETA: 2s - loss: 0.3120 - accuracy: 0.86 - ETA: 2s - loss: 0.3106 - accuracy: 0.86 - ETA: 2s - loss: 0.3099 - accuracy: 0.86 - ETA: 2s - loss: 0.3090 - accuracy: 0.86 - ETA: 1s - loss: 0.3082 - accuracy: 0.86 - ETA: 1s - loss: 0.3091 - accuracy: 0.86 - ETA: 1s - loss: 0.3082 - accuracy: 0.86 - ETA: 1s - loss: 0.3076 - accuracy: 0.87 - ETA: 1s - loss: 0.3065 - accuracy: 0.87 - ETA: 1s - loss: 0.3061 - accuracy: 0.87 - ETA: 1s - loss: 0.3050 - accuracy: 0.87 - ETA: 1s - loss: 0.3042 - accuracy: 0.87 - ETA: 1s - loss: 0.3031 - accuracy: 0.87 - ETA: 1s - loss: 0.3033 - accuracy: 0.87 - ETA: 1s - loss: 0.3020 - accuracy: 0.87 - ETA: 1s - loss: 0.3016 - accuracy: 0.87 - ETA: 1s - loss: 0.3015 - accuracy: 0.87 - ETA: 1s - loss: 0.3012 - accuracy: 0.87 - ETA: 1s - loss: 0.3009 - accuracy: 0.87 - ETA: 1s - loss: 0.3006 - accuracy: 0.87 - ETA: 1s - loss: 0.3001 - accuracy: 0.87 - ETA: 1s - loss: 0.2996 - accuracy: 0.87 - ETA: 1s - loss: 0.2999 - accuracy: 0.87 - ETA: 1s - loss: 0.2986 - accuracy: 0.87 - ETA: 1s - loss: 0.2979 - accuracy: 0.87 - ETA: 1s - loss: 0.2972 - accuracy: 0.87 - ETA: 0s - loss: 0.2964 - accuracy: 0.87 - ETA: 0s - loss: 0.2964 - accuracy: 0.87 - ETA: 0s - loss: 0.2959 - accuracy: 0.87 - ETA: 0s - loss: 0.2961 - accuracy: 0.87 - ETA: 0s - loss: 0.2947 - accuracy: 0.87 - ETA: 0s - loss: 0.2946 - accuracy: 0.87 - ETA: 0s - loss: 0.2950 - accuracy: 0.87 - ETA: 0s - loss: 0.2945 - accuracy: 0.87 - ETA: 0s - loss: 0.2943 - accuracy: 0.87 - ETA: 0s - loss: 0.2936 - accuracy: 0.87 - ETA: 0s - loss: 0.2929 - accuracy: 0.87 - ETA: 0s - loss: 0.2923 - accuracy: 0.87 - ETA: 0s - loss: 0.2916 - accuracy: 0.87 - ETA: 0s - loss: 0.2914 - accuracy: 0.87 - ETA: 0s - loss: 0.2908 - accuracy: 0.87 - ETA: 0s - loss: 0.2912 - accuracy: 0.87 - ETA: 0s - loss: 0.2911 - accuracy: 0.87 - ETA: 0s - loss: 0.2907 - accuracy: 0.87 - 4s 2ms/step - loss: 0.2907 - accuracy: 0.8796 - val_loss: 0.2642 - val_accuracy: 0.8550\n",
      "Epoch 3/10\n"
     ]
    },
    {
     "name": "stdout",
     "output_type": "stream",
     "text": [
      "2500/2500 [==============================] - ETA: 0s - loss: 0.1621 - accuracy: 1.00 - ETA: 3s - loss: 0.2347 - accuracy: 0.90 - ETA: 3s - loss: 0.2227 - accuracy: 0.91 - ETA: 3s - loss: 0.2317 - accuracy: 0.91 - ETA: 3s - loss: 0.2524 - accuracy: 0.90 - ETA: 3s - loss: 0.2562 - accuracy: 0.90 - ETA: 3s - loss: 0.2592 - accuracy: 0.89 - ETA: 3s - loss: 0.2552 - accuracy: 0.90 - ETA: 3s - loss: 0.2591 - accuracy: 0.89 - ETA: 3s - loss: 0.2577 - accuracy: 0.89 - ETA: 3s - loss: 0.2528 - accuracy: 0.90 - ETA: 3s - loss: 0.2529 - accuracy: 0.90 - ETA: 2s - loss: 0.2500 - accuracy: 0.90 - ETA: 2s - loss: 0.2466 - accuracy: 0.90 - ETA: 2s - loss: 0.2462 - accuracy: 0.90 - ETA: 2s - loss: 0.2468 - accuracy: 0.90 - ETA: 2s - loss: 0.2482 - accuracy: 0.90 - ETA: 2s - loss: 0.2464 - accuracy: 0.90 - ETA: 2s - loss: 0.2472 - accuracy: 0.90 - ETA: 2s - loss: 0.2452 - accuracy: 0.90 - ETA: 2s - loss: 0.2450 - accuracy: 0.90 - ETA: 2s - loss: 0.2433 - accuracy: 0.90 - ETA: 2s - loss: 0.2418 - accuracy: 0.90 - ETA: 2s - loss: 0.2401 - accuracy: 0.90 - ETA: 2s - loss: 0.2402 - accuracy: 0.90 - ETA: 2s - loss: 0.2400 - accuracy: 0.90 - ETA: 2s - loss: 0.2424 - accuracy: 0.90 - ETA: 2s - loss: 0.2425 - accuracy: 0.90 - ETA: 2s - loss: 0.2434 - accuracy: 0.90 - ETA: 2s - loss: 0.2424 - accuracy: 0.90 - ETA: 2s - loss: 0.2421 - accuracy: 0.90 - ETA: 2s - loss: 0.2422 - accuracy: 0.90 - ETA: 1s - loss: 0.2418 - accuracy: 0.90 - ETA: 1s - loss: 0.2406 - accuracy: 0.90 - ETA: 1s - loss: 0.2408 - accuracy: 0.90 - ETA: 1s - loss: 0.2406 - accuracy: 0.90 - ETA: 1s - loss: 0.2402 - accuracy: 0.90 - ETA: 1s - loss: 0.2406 - accuracy: 0.90 - ETA: 1s - loss: 0.2392 - accuracy: 0.90 - ETA: 1s - loss: 0.2384 - accuracy: 0.90 - ETA: 1s - loss: 0.2382 - accuracy: 0.90 - ETA: 1s - loss: 0.2373 - accuracy: 0.90 - ETA: 1s - loss: 0.2363 - accuracy: 0.90 - ETA: 1s - loss: 0.2364 - accuracy: 0.90 - ETA: 1s - loss: 0.2367 - accuracy: 0.90 - ETA: 1s - loss: 0.2366 - accuracy: 0.91 - ETA: 1s - loss: 0.2367 - accuracy: 0.90 - ETA: 1s - loss: 0.2375 - accuracy: 0.90 - ETA: 1s - loss: 0.2375 - accuracy: 0.90 - ETA: 1s - loss: 0.2367 - accuracy: 0.90 - ETA: 1s - loss: 0.2363 - accuracy: 0.91 - ETA: 1s - loss: 0.2357 - accuracy: 0.91 - ETA: 0s - loss: 0.2360 - accuracy: 0.91 - ETA: 0s - loss: 0.2359 - accuracy: 0.91 - ETA: 0s - loss: 0.2357 - accuracy: 0.91 - ETA: 0s - loss: 0.2360 - accuracy: 0.91 - ETA: 0s - loss: 0.2363 - accuracy: 0.90 - ETA: 0s - loss: 0.2357 - accuracy: 0.91 - ETA: 0s - loss: 0.2353 - accuracy: 0.90 - ETA: 0s - loss: 0.2348 - accuracy: 0.91 - ETA: 0s - loss: 0.2348 - accuracy: 0.91 - ETA: 0s - loss: 0.2349 - accuracy: 0.91 - ETA: 0s - loss: 0.2355 - accuracy: 0.91 - ETA: 0s - loss: 0.2350 - accuracy: 0.91 - ETA: 0s - loss: 0.2355 - accuracy: 0.91 - ETA: 0s - loss: 0.2362 - accuracy: 0.90 - ETA: 0s - loss: 0.2361 - accuracy: 0.90 - ETA: 0s - loss: 0.2361 - accuracy: 0.90 - ETA: 0s - loss: 0.2353 - accuracy: 0.91 - ETA: 0s - loss: 0.2350 - accuracy: 0.91 - ETA: 0s - loss: 0.2355 - accuracy: 0.90 - 4s 1ms/step - loss: 0.2353 - accuracy: 0.9098 - val_loss: 0.2512 - val_accuracy: 0.8850\n",
      "Epoch 4/10\n",
      "2500/2500 [==============================] - ETA: 0s - loss: 0.4765 - accuracy: 0.90 - ETA: 3s - loss: 0.2411 - accuracy: 0.91 - ETA: 3s - loss: 0.2220 - accuracy: 0.91 - ETA: 3s - loss: 0.2288 - accuracy: 0.90 - ETA: 3s - loss: 0.2255 - accuracy: 0.91 - ETA: 3s - loss: 0.2261 - accuracy: 0.91 - ETA: 3s - loss: 0.2290 - accuracy: 0.91 - ETA: 3s - loss: 0.2324 - accuracy: 0.91 - ETA: 3s - loss: 0.2278 - accuracy: 0.91 - ETA: 3s - loss: 0.2247 - accuracy: 0.91 - ETA: 3s - loss: 0.2230 - accuracy: 0.91 - ETA: 3s - loss: 0.2174 - accuracy: 0.91 - ETA: 3s - loss: 0.2148 - accuracy: 0.91 - ETA: 2s - loss: 0.2120 - accuracy: 0.91 - ETA: 2s - loss: 0.2177 - accuracy: 0.91 - ETA: 2s - loss: 0.2167 - accuracy: 0.91 - ETA: 2s - loss: 0.2155 - accuracy: 0.91 - ETA: 2s - loss: 0.2159 - accuracy: 0.91 - ETA: 2s - loss: 0.2176 - accuracy: 0.91 - ETA: 2s - loss: 0.2162 - accuracy: 0.91 - ETA: 2s - loss: 0.2146 - accuracy: 0.91 - ETA: 2s - loss: 0.2126 - accuracy: 0.91 - ETA: 2s - loss: 0.2124 - accuracy: 0.91 - ETA: 2s - loss: 0.2129 - accuracy: 0.91 - ETA: 2s - loss: 0.2125 - accuracy: 0.91 - ETA: 2s - loss: 0.2111 - accuracy: 0.91 - ETA: 2s - loss: 0.2105 - accuracy: 0.91 - ETA: 2s - loss: 0.2116 - accuracy: 0.91 - ETA: 2s - loss: 0.2105 - accuracy: 0.91 - ETA: 2s - loss: 0.2110 - accuracy: 0.91 - ETA: 2s - loss: 0.2120 - accuracy: 0.91 - ETA: 2s - loss: 0.2114 - accuracy: 0.91 - ETA: 2s - loss: 0.2113 - accuracy: 0.91 - ETA: 2s - loss: 0.2092 - accuracy: 0.91 - ETA: 1s - loss: 0.2107 - accuracy: 0.91 - ETA: 1s - loss: 0.2103 - accuracy: 0.91 - ETA: 1s - loss: 0.2109 - accuracy: 0.91 - ETA: 1s - loss: 0.2104 - accuracy: 0.91 - ETA: 1s - loss: 0.2102 - accuracy: 0.91 - ETA: 1s - loss: 0.2099 - accuracy: 0.91 - ETA: 1s - loss: 0.2093 - accuracy: 0.91 - ETA: 1s - loss: 0.2083 - accuracy: 0.91 - ETA: 1s - loss: 0.2082 - accuracy: 0.91 - ETA: 1s - loss: 0.2080 - accuracy: 0.91 - ETA: 1s - loss: 0.2072 - accuracy: 0.92 - ETA: 1s - loss: 0.2076 - accuracy: 0.92 - ETA: 1s - loss: 0.2070 - accuracy: 0.92 - ETA: 1s - loss: 0.2060 - accuracy: 0.92 - ETA: 1s - loss: 0.2062 - accuracy: 0.92 - ETA: 1s - loss: 0.2062 - accuracy: 0.92 - ETA: 1s - loss: 0.2057 - accuracy: 0.92 - ETA: 1s - loss: 0.2052 - accuracy: 0.92 - ETA: 1s - loss: 0.2050 - accuracy: 0.92 - ETA: 1s - loss: 0.2060 - accuracy: 0.92 - ETA: 0s - loss: 0.2060 - accuracy: 0.92 - ETA: 0s - loss: 0.2056 - accuracy: 0.92 - ETA: 0s - loss: 0.2063 - accuracy: 0.92 - ETA: 0s - loss: 0.2055 - accuracy: 0.92 - ETA: 0s - loss: 0.2053 - accuracy: 0.92 - ETA: 0s - loss: 0.2048 - accuracy: 0.92 - ETA: 0s - loss: 0.2052 - accuracy: 0.92 - ETA: 0s - loss: 0.2044 - accuracy: 0.92 - ETA: 0s - loss: 0.2050 - accuracy: 0.92 - ETA: 0s - loss: 0.2046 - accuracy: 0.92 - ETA: 0s - loss: 0.2042 - accuracy: 0.92 - ETA: 0s - loss: 0.2042 - accuracy: 0.92 - ETA: 0s - loss: 0.2041 - accuracy: 0.92 - ETA: 0s - loss: 0.2037 - accuracy: 0.92 - ETA: 0s - loss: 0.2040 - accuracy: 0.92 - ETA: 0s - loss: 0.2040 - accuracy: 0.92 - ETA: 0s - loss: 0.2040 - accuracy: 0.92 - ETA: 0s - loss: 0.2034 - accuracy: 0.92 - ETA: 0s - loss: 0.2033 - accuracy: 0.92 - 4s 2ms/step - loss: 0.2030 - accuracy: 0.9230 - val_loss: 0.2891 - val_accuracy: 0.8650\n",
      "Epoch 5/10\n"
     ]
    },
    {
     "name": "stdout",
     "output_type": "stream",
     "text": [
      "2500/2500 [==============================] - ETA: 0s - loss: 0.1041 - accuracy: 1.00 - ETA: 3s - loss: 0.2044 - accuracy: 0.92 - ETA: 3s - loss: 0.2111 - accuracy: 0.90 - ETA: 3s - loss: 0.2002 - accuracy: 0.91 - ETA: 3s - loss: 0.1946 - accuracy: 0.91 - ETA: 3s - loss: 0.2001 - accuracy: 0.92 - ETA: 3s - loss: 0.1992 - accuracy: 0.92 - ETA: 3s - loss: 0.1964 - accuracy: 0.92 - ETA: 3s - loss: 0.1953 - accuracy: 0.92 - ETA: 3s - loss: 0.1966 - accuracy: 0.92 - ETA: 3s - loss: 0.1968 - accuracy: 0.92 - ETA: 3s - loss: 0.1979 - accuracy: 0.92 - ETA: 3s - loss: 0.1942 - accuracy: 0.92 - ETA: 2s - loss: 0.1919 - accuracy: 0.92 - ETA: 2s - loss: 0.1906 - accuracy: 0.92 - ETA: 2s - loss: 0.1905 - accuracy: 0.92 - ETA: 2s - loss: 0.1918 - accuracy: 0.92 - ETA: 2s - loss: 0.1925 - accuracy: 0.92 - ETA: 2s - loss: 0.1928 - accuracy: 0.92 - ETA: 2s - loss: 0.1925 - accuracy: 0.92 - ETA: 2s - loss: 0.1889 - accuracy: 0.92 - ETA: 2s - loss: 0.1889 - accuracy: 0.92 - ETA: 2s - loss: 0.1906 - accuracy: 0.92 - ETA: 2s - loss: 0.1897 - accuracy: 0.92 - ETA: 2s - loss: 0.1876 - accuracy: 0.92 - ETA: 2s - loss: 0.1877 - accuracy: 0.92 - ETA: 2s - loss: 0.1894 - accuracy: 0.92 - ETA: 2s - loss: 0.1887 - accuracy: 0.92 - ETA: 2s - loss: 0.1883 - accuracy: 0.92 - ETA: 2s - loss: 0.1870 - accuracy: 0.93 - ETA: 2s - loss: 0.1863 - accuracy: 0.93 - ETA: 2s - loss: 0.1860 - accuracy: 0.93 - ETA: 2s - loss: 0.1854 - accuracy: 0.93 - ETA: 1s - loss: 0.1852 - accuracy: 0.93 - ETA: 1s - loss: 0.1846 - accuracy: 0.93 - ETA: 1s - loss: 0.1855 - accuracy: 0.93 - ETA: 1s - loss: 0.1853 - accuracy: 0.93 - ETA: 1s - loss: 0.1851 - accuracy: 0.93 - ETA: 1s - loss: 0.1844 - accuracy: 0.93 - ETA: 1s - loss: 0.1841 - accuracy: 0.93 - ETA: 1s - loss: 0.1843 - accuracy: 0.93 - ETA: 1s - loss: 0.1831 - accuracy: 0.93 - ETA: 1s - loss: 0.1819 - accuracy: 0.93 - ETA: 1s - loss: 0.1821 - accuracy: 0.93 - ETA: 1s - loss: 0.1822 - accuracy: 0.93 - ETA: 1s - loss: 0.1829 - accuracy: 0.93 - ETA: 1s - loss: 0.1821 - accuracy: 0.93 - ETA: 1s - loss: 0.1817 - accuracy: 0.93 - ETA: 1s - loss: 0.1819 - accuracy: 0.93 - ETA: 1s - loss: 0.1815 - accuracy: 0.93 - ETA: 1s - loss: 0.1809 - accuracy: 0.93 - ETA: 1s - loss: 0.1805 - accuracy: 0.93 - ETA: 1s - loss: 0.1803 - accuracy: 0.93 - ETA: 0s - loss: 0.1805 - accuracy: 0.93 - ETA: 0s - loss: 0.1811 - accuracy: 0.93 - ETA: 0s - loss: 0.1810 - accuracy: 0.93 - ETA: 0s - loss: 0.1809 - accuracy: 0.93 - ETA: 0s - loss: 0.1809 - accuracy: 0.93 - ETA: 0s - loss: 0.1807 - accuracy: 0.93 - ETA: 0s - loss: 0.1803 - accuracy: 0.93 - ETA: 0s - loss: 0.1809 - accuracy: 0.93 - ETA: 0s - loss: 0.1805 - accuracy: 0.93 - ETA: 0s - loss: 0.1805 - accuracy: 0.93 - ETA: 0s - loss: 0.1799 - accuracy: 0.93 - ETA: 0s - loss: 0.1794 - accuracy: 0.93 - ETA: 0s - loss: 0.1789 - accuracy: 0.93 - ETA: 0s - loss: 0.1786 - accuracy: 0.93 - ETA: 0s - loss: 0.1780 - accuracy: 0.93 - ETA: 0s - loss: 0.1773 - accuracy: 0.93 - ETA: 0s - loss: 0.1772 - accuracy: 0.93 - ETA: 0s - loss: 0.1772 - accuracy: 0.93 - ETA: 0s - loss: 0.1773 - accuracy: 0.93 - 4s 1ms/step - loss: 0.1772 - accuracy: 0.9337 - val_loss: 0.3631 - val_accuracy: 0.8400\n",
      "Epoch 6/10\n",
      "2500/2500 [==============================] - ETA: 0s - loss: 0.1097 - accuracy: 0.90 - ETA: 3s - loss: 0.1958 - accuracy: 0.91 - ETA: 3s - loss: 0.1982 - accuracy: 0.92 - ETA: 3s - loss: 0.1901 - accuracy: 0.92 - ETA: 3s - loss: 0.1840 - accuracy: 0.92 - ETA: 3s - loss: 0.1759 - accuracy: 0.93 - ETA: 3s - loss: 0.1693 - accuracy: 0.93 - ETA: 3s - loss: 0.1671 - accuracy: 0.93 - ETA: 3s - loss: 0.1686 - accuracy: 0.93 - ETA: 3s - loss: 0.1649 - accuracy: 0.93 - ETA: 3s - loss: 0.1648 - accuracy: 0.93 - ETA: 3s - loss: 0.1645 - accuracy: 0.93 - ETA: 3s - loss: 0.1632 - accuracy: 0.93 - ETA: 2s - loss: 0.1621 - accuracy: 0.93 - ETA: 2s - loss: 0.1674 - accuracy: 0.93 - ETA: 2s - loss: 0.1670 - accuracy: 0.93 - ETA: 2s - loss: 0.1645 - accuracy: 0.93 - ETA: 2s - loss: 0.1625 - accuracy: 0.93 - ETA: 2s - loss: 0.1621 - accuracy: 0.94 - ETA: 2s - loss: 0.1639 - accuracy: 0.93 - ETA: 2s - loss: 0.1623 - accuracy: 0.93 - ETA: 2s - loss: 0.1628 - accuracy: 0.93 - ETA: 2s - loss: 0.1635 - accuracy: 0.93 - ETA: 2s - loss: 0.1643 - accuracy: 0.93 - ETA: 2s - loss: 0.1629 - accuracy: 0.93 - ETA: 2s - loss: 0.1634 - accuracy: 0.93 - ETA: 2s - loss: 0.1639 - accuracy: 0.93 - ETA: 2s - loss: 0.1642 - accuracy: 0.93 - ETA: 2s - loss: 0.1648 - accuracy: 0.93 - ETA: 2s - loss: 0.1643 - accuracy: 0.93 - ETA: 2s - loss: 0.1636 - accuracy: 0.93 - ETA: 2s - loss: 0.1636 - accuracy: 0.93 - ETA: 2s - loss: 0.1640 - accuracy: 0.93 - ETA: 1s - loss: 0.1632 - accuracy: 0.93 - ETA: 1s - loss: 0.1639 - accuracy: 0.93 - ETA: 1s - loss: 0.1647 - accuracy: 0.93 - ETA: 1s - loss: 0.1647 - accuracy: 0.93 - ETA: 1s - loss: 0.1647 - accuracy: 0.93 - ETA: 1s - loss: 0.1648 - accuracy: 0.93 - ETA: 1s - loss: 0.1645 - accuracy: 0.93 - ETA: 1s - loss: 0.1636 - accuracy: 0.93 - ETA: 1s - loss: 0.1635 - accuracy: 0.93 - ETA: 1s - loss: 0.1631 - accuracy: 0.93 - ETA: 1s - loss: 0.1635 - accuracy: 0.93 - ETA: 1s - loss: 0.1635 - accuracy: 0.93 - ETA: 1s - loss: 0.1634 - accuracy: 0.93 - ETA: 1s - loss: 0.1630 - accuracy: 0.93 - ETA: 1s - loss: 0.1621 - accuracy: 0.93 - ETA: 1s - loss: 0.1614 - accuracy: 0.93 - ETA: 1s - loss: 0.1613 - accuracy: 0.93 - ETA: 1s - loss: 0.1617 - accuracy: 0.93 - ETA: 1s - loss: 0.1614 - accuracy: 0.93 - ETA: 0s - loss: 0.1614 - accuracy: 0.93 - ETA: 0s - loss: 0.1616 - accuracy: 0.93 - ETA: 0s - loss: 0.1616 - accuracy: 0.93 - ETA: 0s - loss: 0.1620 - accuracy: 0.93 - ETA: 0s - loss: 0.1623 - accuracy: 0.93 - ETA: 0s - loss: 0.1620 - accuracy: 0.94 - ETA: 0s - loss: 0.1627 - accuracy: 0.94 - ETA: 0s - loss: 0.1624 - accuracy: 0.94 - ETA: 0s - loss: 0.1620 - accuracy: 0.94 - ETA: 0s - loss: 0.1616 - accuracy: 0.94 - ETA: 0s - loss: 0.1611 - accuracy: 0.94 - ETA: 0s - loss: 0.1603 - accuracy: 0.94 - ETA: 0s - loss: 0.1607 - accuracy: 0.94 - ETA: 0s - loss: 0.1601 - accuracy: 0.94 - ETA: 0s - loss: 0.1605 - accuracy: 0.94 - ETA: 0s - loss: 0.1606 - accuracy: 0.94 - ETA: 0s - loss: 0.1605 - accuracy: 0.94 - ETA: 0s - loss: 0.1605 - accuracy: 0.94 - ETA: 0s - loss: 0.1605 - accuracy: 0.94 - ETA: 0s - loss: 0.1602 - accuracy: 0.94 - ETA: 0s - loss: 0.1606 - accuracy: 0.94 - ETA: 0s - loss: 0.1603 - accuracy: 0.94 - ETA: 0s - loss: 0.1607 - accuracy: 0.94 - ETA: 0s - loss: 0.1605 - accuracy: 0.94 - 4s 2ms/step - loss: 0.1604 - accuracy: 0.9406 - val_loss: 0.3069 - val_accuracy: 0.8700\n",
      "Epoch 7/10\n"
     ]
    },
    {
     "name": "stdout",
     "output_type": "stream",
     "text": [
      "2500/2500 [==============================] - ETA: 0s - loss: 0.1816 - accuracy: 0.90 - ETA: 4s - loss: 0.1215 - accuracy: 0.95 - ETA: 4s - loss: 0.1312 - accuracy: 0.94 - ETA: 3s - loss: 0.1497 - accuracy: 0.94 - ETA: 3s - loss: 0.1584 - accuracy: 0.93 - ETA: 3s - loss: 0.1625 - accuracy: 0.93 - ETA: 3s - loss: 0.1648 - accuracy: 0.94 - ETA: 3s - loss: 0.1603 - accuracy: 0.94 - ETA: 3s - loss: 0.1527 - accuracy: 0.94 - ETA: 3s - loss: 0.1490 - accuracy: 0.94 - ETA: 3s - loss: 0.1540 - accuracy: 0.94 - ETA: 3s - loss: 0.1564 - accuracy: 0.94 - ETA: 3s - loss: 0.1520 - accuracy: 0.94 - ETA: 3s - loss: 0.1507 - accuracy: 0.94 - ETA: 3s - loss: 0.1495 - accuracy: 0.94 - ETA: 3s - loss: 0.1532 - accuracy: 0.94 - ETA: 3s - loss: 0.1516 - accuracy: 0.94 - ETA: 3s - loss: 0.1536 - accuracy: 0.94 - ETA: 3s - loss: 0.1525 - accuracy: 0.94 - ETA: 3s - loss: 0.1525 - accuracy: 0.94 - ETA: 3s - loss: 0.1510 - accuracy: 0.94 - ETA: 3s - loss: 0.1535 - accuracy: 0.94 - ETA: 3s - loss: 0.1519 - accuracy: 0.94 - ETA: 3s - loss: 0.1501 - accuracy: 0.94 - ETA: 3s - loss: 0.1484 - accuracy: 0.94 - ETA: 3s - loss: 0.1472 - accuracy: 0.94 - ETA: 2s - loss: 0.1469 - accuracy: 0.94 - ETA: 2s - loss: 0.1473 - accuracy: 0.94 - ETA: 2s - loss: 0.1477 - accuracy: 0.94 - ETA: 2s - loss: 0.1464 - accuracy: 0.94 - ETA: 2s - loss: 0.1466 - accuracy: 0.94 - ETA: 2s - loss: 0.1471 - accuracy: 0.94 - ETA: 2s - loss: 0.1471 - accuracy: 0.94 - ETA: 2s - loss: 0.1488 - accuracy: 0.94 - ETA: 2s - loss: 0.1486 - accuracy: 0.94 - ETA: 2s - loss: 0.1494 - accuracy: 0.94 - ETA: 2s - loss: 0.1483 - accuracy: 0.94 - ETA: 2s - loss: 0.1472 - accuracy: 0.94 - ETA: 2s - loss: 0.1467 - accuracy: 0.94 - ETA: 2s - loss: 0.1478 - accuracy: 0.94 - ETA: 2s - loss: 0.1470 - accuracy: 0.94 - ETA: 2s - loss: 0.1463 - accuracy: 0.94 - ETA: 2s - loss: 0.1453 - accuracy: 0.94 - ETA: 1s - loss: 0.1449 - accuracy: 0.94 - ETA: 1s - loss: 0.1449 - accuracy: 0.94 - ETA: 1s - loss: 0.1443 - accuracy: 0.94 - ETA: 1s - loss: 0.1464 - accuracy: 0.94 - ETA: 1s - loss: 0.1466 - accuracy: 0.94 - ETA: 1s - loss: 0.1478 - accuracy: 0.94 - ETA: 1s - loss: 0.1471 - accuracy: 0.94 - ETA: 1s - loss: 0.1466 - accuracy: 0.94 - ETA: 1s - loss: 0.1463 - accuracy: 0.94 - ETA: 1s - loss: 0.1462 - accuracy: 0.94 - ETA: 1s - loss: 0.1449 - accuracy: 0.94 - ETA: 1s - loss: 0.1449 - accuracy: 0.94 - ETA: 1s - loss: 0.1443 - accuracy: 0.94 - ETA: 1s - loss: 0.1444 - accuracy: 0.94 - ETA: 1s - loss: 0.1462 - accuracy: 0.94 - ETA: 1s - loss: 0.1466 - accuracy: 0.94 - ETA: 0s - loss: 0.1466 - accuracy: 0.94 - ETA: 0s - loss: 0.1461 - accuracy: 0.94 - ETA: 0s - loss: 0.1463 - accuracy: 0.94 - ETA: 0s - loss: 0.1464 - accuracy: 0.94 - ETA: 0s - loss: 0.1463 - accuracy: 0.94 - ETA: 0s - loss: 0.1464 - accuracy: 0.94 - ETA: 0s - loss: 0.1460 - accuracy: 0.94 - ETA: 0s - loss: 0.1463 - accuracy: 0.94 - ETA: 0s - loss: 0.1458 - accuracy: 0.94 - ETA: 0s - loss: 0.1455 - accuracy: 0.94 - ETA: 0s - loss: 0.1456 - accuracy: 0.94 - ETA: 0s - loss: 0.1450 - accuracy: 0.94 - ETA: 0s - loss: 0.1456 - accuracy: 0.94 - ETA: 0s - loss: 0.1451 - accuracy: 0.94 - ETA: 0s - loss: 0.1447 - accuracy: 0.94 - ETA: 0s - loss: 0.1446 - accuracy: 0.94 - ETA: 0s - loss: 0.1442 - accuracy: 0.94 - ETA: 0s - loss: 0.1443 - accuracy: 0.94 - 4s 2ms/step - loss: 0.1441 - accuracy: 0.9490 - val_loss: 0.2754 - val_accuracy: 0.8750\n",
      "Epoch 8/10\n",
      "2500/2500 [==============================] - ETA: 0s - loss: 0.2283 - accuracy: 0.90 - ETA: 3s - loss: 0.1469 - accuracy: 0.93 - ETA: 3s - loss: 0.1331 - accuracy: 0.95 - ETA: 3s - loss: 0.1392 - accuracy: 0.94 - ETA: 3s - loss: 0.1375 - accuracy: 0.95 - ETA: 3s - loss: 0.1374 - accuracy: 0.95 - ETA: 3s - loss: 0.1327 - accuracy: 0.95 - ETA: 3s - loss: 0.1384 - accuracy: 0.95 - ETA: 3s - loss: 0.1417 - accuracy: 0.94 - ETA: 3s - loss: 0.1408 - accuracy: 0.94 - ETA: 3s - loss: 0.1428 - accuracy: 0.94 - ETA: 3s - loss: 0.1425 - accuracy: 0.94 - ETA: 3s - loss: 0.1422 - accuracy: 0.94 - ETA: 3s - loss: 0.1424 - accuracy: 0.94 - ETA: 3s - loss: 0.1423 - accuracy: 0.94 - ETA: 3s - loss: 0.1419 - accuracy: 0.94 - ETA: 2s - loss: 0.1419 - accuracy: 0.94 - ETA: 2s - loss: 0.1403 - accuracy: 0.94 - ETA: 2s - loss: 0.1415 - accuracy: 0.94 - ETA: 2s - loss: 0.1415 - accuracy: 0.94 - ETA: 2s - loss: 0.1416 - accuracy: 0.94 - ETA: 2s - loss: 0.1405 - accuracy: 0.94 - ETA: 2s - loss: 0.1394 - accuracy: 0.94 - ETA: 2s - loss: 0.1397 - accuracy: 0.94 - ETA: 2s - loss: 0.1391 - accuracy: 0.94 - ETA: 2s - loss: 0.1383 - accuracy: 0.94 - ETA: 2s - loss: 0.1379 - accuracy: 0.94 - ETA: 2s - loss: 0.1369 - accuracy: 0.95 - ETA: 2s - loss: 0.1367 - accuracy: 0.95 - ETA: 2s - loss: 0.1376 - accuracy: 0.95 - ETA: 2s - loss: 0.1390 - accuracy: 0.95 - ETA: 2s - loss: 0.1390 - accuracy: 0.94 - ETA: 2s - loss: 0.1400 - accuracy: 0.94 - ETA: 2s - loss: 0.1398 - accuracy: 0.94 - ETA: 2s - loss: 0.1383 - accuracy: 0.94 - ETA: 1s - loss: 0.1376 - accuracy: 0.94 - ETA: 1s - loss: 0.1362 - accuracy: 0.95 - ETA: 1s - loss: 0.1362 - accuracy: 0.94 - ETA: 1s - loss: 0.1361 - accuracy: 0.95 - ETA: 1s - loss: 0.1362 - accuracy: 0.94 - ETA: 1s - loss: 0.1364 - accuracy: 0.94 - ETA: 1s - loss: 0.1367 - accuracy: 0.94 - ETA: 1s - loss: 0.1368 - accuracy: 0.94 - ETA: 1s - loss: 0.1356 - accuracy: 0.94 - ETA: 1s - loss: 0.1368 - accuracy: 0.94 - ETA: 1s - loss: 0.1366 - accuracy: 0.94 - ETA: 1s - loss: 0.1372 - accuracy: 0.94 - ETA: 1s - loss: 0.1371 - accuracy: 0.94 - ETA: 1s - loss: 0.1366 - accuracy: 0.94 - ETA: 1s - loss: 0.1363 - accuracy: 0.94 - ETA: 1s - loss: 0.1363 - accuracy: 0.94 - ETA: 1s - loss: 0.1360 - accuracy: 0.94 - ETA: 1s - loss: 0.1365 - accuracy: 0.94 - ETA: 1s - loss: 0.1366 - accuracy: 0.94 - ETA: 1s - loss: 0.1360 - accuracy: 0.94 - ETA: 1s - loss: 0.1368 - accuracy: 0.94 - ETA: 0s - loss: 0.1369 - accuracy: 0.94 - ETA: 0s - loss: 0.1366 - accuracy: 0.94 - ETA: 0s - loss: 0.1363 - accuracy: 0.95 - ETA: 0s - loss: 0.1360 - accuracy: 0.95 - ETA: 0s - loss: 0.1359 - accuracy: 0.95 - ETA: 0s - loss: 0.1362 - accuracy: 0.95 - ETA: 0s - loss: 0.1359 - accuracy: 0.95 - ETA: 0s - loss: 0.1357 - accuracy: 0.95 - ETA: 0s - loss: 0.1352 - accuracy: 0.95 - ETA: 0s - loss: 0.1355 - accuracy: 0.95 - ETA: 0s - loss: 0.1349 - accuracy: 0.95 - ETA: 0s - loss: 0.1347 - accuracy: 0.95 - ETA: 0s - loss: 0.1342 - accuracy: 0.95 - ETA: 0s - loss: 0.1341 - accuracy: 0.95 - ETA: 0s - loss: 0.1338 - accuracy: 0.95 - ETA: 0s - loss: 0.1344 - accuracy: 0.95 - ETA: 0s - loss: 0.1346 - accuracy: 0.95 - ETA: 0s - loss: 0.1342 - accuracy: 0.95 - 4s 2ms/step - loss: 0.1344 - accuracy: 0.9510 - val_loss: 0.3075 - val_accuracy: 0.8550\n",
      "Epoch 9/10\n"
     ]
    },
    {
     "name": "stdout",
     "output_type": "stream",
     "text": [
      "2500/2500 [==============================] - ETA: 0s - loss: 0.0316 - accuracy: 1.00 - ETA: 4s - loss: 0.1239 - accuracy: 0.94 - ETA: 4s - loss: 0.1114 - accuracy: 0.95 - ETA: 4s - loss: 0.1067 - accuracy: 0.95 - ETA: 4s - loss: 0.1071 - accuracy: 0.95 - ETA: 3s - loss: 0.1197 - accuracy: 0.95 - ETA: 3s - loss: 0.1215 - accuracy: 0.95 - ETA: 3s - loss: 0.1278 - accuracy: 0.95 - ETA: 3s - loss: 0.1281 - accuracy: 0.95 - ETA: 3s - loss: 0.1257 - accuracy: 0.95 - ETA: 3s - loss: 0.1261 - accuracy: 0.95 - ETA: 3s - loss: 0.1257 - accuracy: 0.95 - ETA: 3s - loss: 0.1230 - accuracy: 0.95 - ETA: 3s - loss: 0.1225 - accuracy: 0.95 - ETA: 3s - loss: 0.1214 - accuracy: 0.95 - ETA: 3s - loss: 0.1258 - accuracy: 0.95 - ETA: 3s - loss: 0.1246 - accuracy: 0.95 - ETA: 3s - loss: 0.1266 - accuracy: 0.95 - ETA: 3s - loss: 0.1265 - accuracy: 0.95 - ETA: 2s - loss: 0.1260 - accuracy: 0.95 - ETA: 2s - loss: 0.1261 - accuracy: 0.95 - ETA: 2s - loss: 0.1269 - accuracy: 0.95 - ETA: 2s - loss: 0.1268 - accuracy: 0.95 - ETA: 2s - loss: 0.1283 - accuracy: 0.95 - ETA: 2s - loss: 0.1263 - accuracy: 0.95 - ETA: 2s - loss: 0.1268 - accuracy: 0.95 - ETA: 2s - loss: 0.1275 - accuracy: 0.95 - ETA: 2s - loss: 0.1266 - accuracy: 0.95 - ETA: 2s - loss: 0.1262 - accuracy: 0.95 - ETA: 2s - loss: 0.1256 - accuracy: 0.95 - ETA: 2s - loss: 0.1259 - accuracy: 0.95 - ETA: 2s - loss: 0.1268 - accuracy: 0.95 - ETA: 2s - loss: 0.1260 - accuracy: 0.95 - ETA: 2s - loss: 0.1242 - accuracy: 0.95 - ETA: 2s - loss: 0.1242 - accuracy: 0.95 - ETA: 2s - loss: 0.1246 - accuracy: 0.95 - ETA: 1s - loss: 0.1249 - accuracy: 0.95 - ETA: 1s - loss: 0.1244 - accuracy: 0.95 - ETA: 1s - loss: 0.1231 - accuracy: 0.95 - ETA: 1s - loss: 0.1226 - accuracy: 0.95 - ETA: 1s - loss: 0.1231 - accuracy: 0.95 - ETA: 1s - loss: 0.1226 - accuracy: 0.95 - ETA: 1s - loss: 0.1230 - accuracy: 0.95 - ETA: 1s - loss: 0.1219 - accuracy: 0.95 - ETA: 1s - loss: 0.1219 - accuracy: 0.95 - ETA: 1s - loss: 0.1221 - accuracy: 0.95 - ETA: 1s - loss: 0.1241 - accuracy: 0.95 - ETA: 1s - loss: 0.1241 - accuracy: 0.95 - ETA: 1s - loss: 0.1237 - accuracy: 0.95 - ETA: 1s - loss: 0.1231 - accuracy: 0.95 - ETA: 1s - loss: 0.1238 - accuracy: 0.95 - ETA: 1s - loss: 0.1239 - accuracy: 0.95 - ETA: 1s - loss: 0.1240 - accuracy: 0.95 - ETA: 1s - loss: 0.1243 - accuracy: 0.95 - ETA: 1s - loss: 0.1246 - accuracy: 0.95 - ETA: 1s - loss: 0.1243 - accuracy: 0.95 - ETA: 0s - loss: 0.1251 - accuracy: 0.95 - ETA: 0s - loss: 0.1247 - accuracy: 0.95 - ETA: 0s - loss: 0.1243 - accuracy: 0.95 - ETA: 0s - loss: 0.1241 - accuracy: 0.95 - ETA: 0s - loss: 0.1237 - accuracy: 0.95 - ETA: 0s - loss: 0.1236 - accuracy: 0.95 - ETA: 0s - loss: 0.1235 - accuracy: 0.95 - ETA: 0s - loss: 0.1242 - accuracy: 0.95 - ETA: 0s - loss: 0.1237 - accuracy: 0.95 - ETA: 0s - loss: 0.1237 - accuracy: 0.95 - ETA: 0s - loss: 0.1230 - accuracy: 0.95 - ETA: 0s - loss: 0.1230 - accuracy: 0.95 - ETA: 0s - loss: 0.1225 - accuracy: 0.95 - ETA: 0s - loss: 0.1222 - accuracy: 0.95 - ETA: 0s - loss: 0.1232 - accuracy: 0.95 - ETA: 0s - loss: 0.1228 - accuracy: 0.95 - ETA: 0s - loss: 0.1229 - accuracy: 0.95 - ETA: 0s - loss: 0.1229 - accuracy: 0.95 - ETA: 0s - loss: 0.1223 - accuracy: 0.95 - ETA: 0s - loss: 0.1216 - accuracy: 0.95 - 4s 2ms/step - loss: 0.1217 - accuracy: 0.9584 - val_loss: 0.4455 - val_accuracy: 0.8450\n",
      "Epoch 10/10\n",
      "2500/2500 [==============================] - ETA: 0s - loss: 0.4834 - accuracy: 0.90 - ETA: 4s - loss: 0.1753 - accuracy: 0.94 - ETA: 3s - loss: 0.1300 - accuracy: 0.96 - ETA: 3s - loss: 0.1206 - accuracy: 0.96 - ETA: 3s - loss: 0.1175 - accuracy: 0.96 - ETA: 3s - loss: 0.1277 - accuracy: 0.96 - ETA: 3s - loss: 0.1226 - accuracy: 0.96 - ETA: 3s - loss: 0.1135 - accuracy: 0.96 - ETA: 3s - loss: 0.1140 - accuracy: 0.96 - ETA: 3s - loss: 0.1103 - accuracy: 0.96 - ETA: 3s - loss: 0.1103 - accuracy: 0.96 - ETA: 3s - loss: 0.1158 - accuracy: 0.96 - ETA: 3s - loss: 0.1142 - accuracy: 0.96 - ETA: 3s - loss: 0.1177 - accuracy: 0.95 - ETA: 3s - loss: 0.1159 - accuracy: 0.95 - ETA: 3s - loss: 0.1158 - accuracy: 0.96 - ETA: 3s - loss: 0.1146 - accuracy: 0.96 - ETA: 3s - loss: 0.1165 - accuracy: 0.96 - ETA: 3s - loss: 0.1187 - accuracy: 0.95 - ETA: 3s - loss: 0.1170 - accuracy: 0.95 - ETA: 2s - loss: 0.1181 - accuracy: 0.95 - ETA: 2s - loss: 0.1195 - accuracy: 0.95 - ETA: 2s - loss: 0.1186 - accuracy: 0.95 - ETA: 2s - loss: 0.1184 - accuracy: 0.95 - ETA: 2s - loss: 0.1169 - accuracy: 0.95 - ETA: 2s - loss: 0.1178 - accuracy: 0.95 - ETA: 2s - loss: 0.1161 - accuracy: 0.96 - ETA: 2s - loss: 0.1156 - accuracy: 0.96 - ETA: 2s - loss: 0.1166 - accuracy: 0.95 - ETA: 2s - loss: 0.1167 - accuracy: 0.95 - ETA: 2s - loss: 0.1174 - accuracy: 0.95 - ETA: 2s - loss: 0.1171 - accuracy: 0.95 - ETA: 2s - loss: 0.1163 - accuracy: 0.95 - ETA: 2s - loss: 0.1155 - accuracy: 0.96 - ETA: 2s - loss: 0.1153 - accuracy: 0.96 - ETA: 2s - loss: 0.1146 - accuracy: 0.96 - ETA: 2s - loss: 0.1151 - accuracy: 0.96 - ETA: 2s - loss: 0.1143 - accuracy: 0.96 - ETA: 2s - loss: 0.1141 - accuracy: 0.96 - ETA: 1s - loss: 0.1143 - accuracy: 0.96 - ETA: 1s - loss: 0.1139 - accuracy: 0.96 - ETA: 1s - loss: 0.1137 - accuracy: 0.96 - ETA: 1s - loss: 0.1138 - accuracy: 0.96 - ETA: 1s - loss: 0.1132 - accuracy: 0.96 - ETA: 1s - loss: 0.1133 - accuracy: 0.96 - ETA: 1s - loss: 0.1133 - accuracy: 0.96 - ETA: 1s - loss: 0.1130 - accuracy: 0.96 - ETA: 1s - loss: 0.1129 - accuracy: 0.96 - ETA: 1s - loss: 0.1132 - accuracy: 0.96 - ETA: 1s - loss: 0.1129 - accuracy: 0.96 - ETA: 1s - loss: 0.1129 - accuracy: 0.96 - ETA: 1s - loss: 0.1130 - accuracy: 0.96 - ETA: 1s - loss: 0.1123 - accuracy: 0.96 - ETA: 1s - loss: 0.1126 - accuracy: 0.96 - ETA: 1s - loss: 0.1123 - accuracy: 0.96 - ETA: 1s - loss: 0.1117 - accuracy: 0.96 - ETA: 1s - loss: 0.1119 - accuracy: 0.96 - ETA: 1s - loss: 0.1118 - accuracy: 0.96 - ETA: 1s - loss: 0.1120 - accuracy: 0.96 - ETA: 1s - loss: 0.1115 - accuracy: 0.96 - ETA: 1s - loss: 0.1112 - accuracy: 0.96 - ETA: 0s - loss: 0.1107 - accuracy: 0.96 - ETA: 0s - loss: 0.1112 - accuracy: 0.96 - ETA: 0s - loss: 0.1107 - accuracy: 0.96 - ETA: 0s - loss: 0.1114 - accuracy: 0.96 - ETA: 0s - loss: 0.1114 - accuracy: 0.96 - ETA: 0s - loss: 0.1117 - accuracy: 0.96 - ETA: 0s - loss: 0.1117 - accuracy: 0.96 - ETA: 0s - loss: 0.1118 - accuracy: 0.96 - ETA: 0s - loss: 0.1120 - accuracy: 0.96 - ETA: 0s - loss: 0.1118 - accuracy: 0.96 - ETA: 0s - loss: 0.1118 - accuracy: 0.96 - ETA: 0s - loss: 0.1113 - accuracy: 0.96 - ETA: 0s - loss: 0.1113 - accuracy: 0.96 - ETA: 0s - loss: 0.1107 - accuracy: 0.96 - ETA: 0s - loss: 0.1104 - accuracy: 0.96 - ETA: 0s - loss: 0.1101 - accuracy: 0.96 - ETA: 0s - loss: 0.1096 - accuracy: 0.96 - ETA: 0s - loss: 0.1095 - accuracy: 0.96 - ETA: 0s - loss: 0.1096 - accuracy: 0.96 - ETA: 0s - loss: 0.1097 - accuracy: 0.96 - 4s 2ms/step - loss: 0.1098 - accuracy: 0.9613 - val_loss: 0.4283 - val_accuracy: 0.8550\n"
     ]
    }
   ],
   "source": [
    "model.compile(optimizer='adam',\n",
    "              loss=tf.keras.losses.BinaryCrossentropy(from_logits=True),\n",
    "              metrics=['accuracy'])\n",
    "\n",
    "history = model.fit(\n",
    "    train_batches,\n",
    "    epochs=10,\n",
    "    validation_data=test_batches, validation_steps=20)"
   ]
  },
  {
   "cell_type": "markdown",
   "metadata": {
    "colab_type": "text",
    "id": "LQjpKVYTXU-1"
   },
   "source": [
    "## Evaluating the model\n",
    "1. Plot the training and validiation accuracy as a function of training epoch. When does the model start overfitting?"
   ]
  },
  {
   "cell_type": "code",
   "execution_count": 18,
   "metadata": {
    "colab": {},
    "colab_type": "code",
    "id": "0D3OTmOT1z1O"
   },
   "outputs": [
    {
     "data": {
      "image/png": "[encoded data removed]",
      "text/plain": [
       "<Figure size 864x648 with 1 Axes>"
      ]
     },
     "metadata": {
      "needs_background": "light"
     },
     "output_type": "display_data"
    },
    {
     "data": {
      "image/png": "[encoded data removed]",
      "text/plain": [
       "<Figure size 864x648 with 1 Axes>"
      ]
     },
     "metadata": {
      "needs_background": "light"
     },
     "output_type": "display_data"
    }
   ],
   "source": [
    "import matplotlib.pyplot as plt\n",
    "\n",
    "history_dict = history.history\n",
    "\n",
    "acc = history_dict['accuracy']\n",
    "val_acc = history_dict['val_accuracy']\n",
    "loss=history_dict['loss']\n",
    "val_loss=history_dict['val_loss']\n",
    "\n",
    "epochs = range(1, len(acc) + 1)\n",
    "\n",
    "plt.figure(figsize=(12,9))\n",
    "plt.plot(epochs, loss, 'bo', label='Training loss')\n",
    "plt.plot(epochs, val_loss, 'b',color='green', label='Validation loss')\n",
    "plt.title('Training and validation loss')\n",
    "plt.xlabel('Epochs')\n",
    "plt.ylabel('Loss')\n",
    "plt.legend()\n",
    "plt.show()\n",
    "\n",
    "plt.figure(figsize=(12,9))\n",
    "plt.plot(epochs, acc, 'bo', label='Training acc')\n",
    "plt.plot(epochs, val_acc, 'b', color='green', label='Validation acc')\n",
    "plt.title('Training and validation accuracy')\n",
    "plt.xlabel('Epochs')\n",
    "plt.ylabel('Accuracy')\n",
    "plt.legend(loc='lower right')\n",
    "plt.ylim((0.5,1))\n",
    "plt.show()"
   ]
  },
  {
   "cell_type": "markdown",
   "metadata": {},
   "source": [
    "The model started overfitting when epochs equal to 8."
   ]
  },
  {
   "cell_type": "markdown",
   "metadata": {
    "colab_type": "text",
    "id": "KCoA6qwqP836"
   },
   "source": [
    "## Retrieve the learned embeddings\n",
    "\n",
    "Next, let's retrieve the word embeddings learned during training. This will be a matrix of shape `(vocab_size, embedding-dimension)`."
   ]
  },
  {
   "cell_type": "code",
   "execution_count": 15,
   "metadata": {
    "colab": {},
    "colab_type": "code",
    "id": "t8WwbsXCXtpa"
   },
   "outputs": [
    {
     "name": "stdout",
     "output_type": "stream",
     "text": [
      "(8185, 16)\n"
     ]
    }
   ],
   "source": [
    "e = model.layers[0]\n",
    "weights = e.get_weights()[0]\n",
    "print(weights.shape) # shape: (vocab_size, embedding_dim)"
   ]
  },
  {
   "cell_type": "markdown",
   "metadata": {
    "colab_type": "text",
    "id": "J8MiCA77X8B8"
   },
   "source": [
    "We will now write the weights to disk. To use the [Embedding Projector](http://projector.tensorflow.org), we will upload two files in tab separated format: a file of vectors (containing the embedding), and a file of meta data (containing the words)."
   ]
  },
  {
   "cell_type": "code",
   "execution_count": 16,
   "metadata": {
    "colab": {},
    "colab_type": "code",
    "id": "GsjempweP9Lq"
   },
   "outputs": [],
   "source": [
    "import io\n",
    "\n",
    "encoder = info.features['text'].encoder\n",
    "\n",
    "out_v = io.open('vecs.tsv', 'w', encoding='utf-8')\n",
    "out_m = io.open('meta.tsv', 'w', encoding='utf-8')\n",
    "\n",
    "for num, word in enumerate(encoder.subwords):\n",
    "  vec = weights[num+1] # skip 0, it's padding.\n",
    "  out_m.write(word + \"\\n\")\n",
    "  out_v.write('\\t'.join([str(x) for x in vec]) + \"\\n\")\n",
    "out_v.close()\n",
    "out_m.close()"
   ]
  },
  {
   "cell_type": "markdown",
   "metadata": {
    "colab_type": "text",
    "id": "JQyMZWyxYjMr"
   },
   "source": [
    "If you are running this tutorial in [Colaboratory](https://colab.research.google.com), you can use the following snippet to download these files to your local machine (or use the file browser, *View -> Table of contents -> File browser*)."
   ]
  },
  {
   "cell_type": "code",
   "execution_count": 17,
   "metadata": {
    "colab": {},
    "colab_type": "code",
    "id": "-gFbbMmvYvhp"
   },
   "outputs": [],
   "source": [
    "try:\n",
    "  from google.colab import files\n",
    "except ImportError:\n",
    "   pass\n",
    "else:\n",
    "  files.download('vecs.tsv')\n",
    "  files.download('meta.tsv')"
   ]
  },
  {
   "cell_type": "markdown",
   "metadata": {
    "colab_type": "text",
    "id": "PXLfFA54Yz-o"
   },
   "source": [
    "## Visualize the embeddings\n",
    "\n",
    "To visualize our embeddings we will upload them to the embedding projector.\n",
    "\n",
    "Open the [Embedding Projector](http://projector.tensorflow.org/) (this can also run in a local TensorBoard instance).\n",
    "\n",
    "* Click on \"Load data\".\n",
    "\n",
    "* Upload the two files we created above: `vecs.tsv` and `meta.tsv`.\n",
    "\n",
    "The embeddings you have trained will now be displayed. You can search for words to find their closest neighbors. For example, try searching for \"beautiful\". You may see neighbors like \"wonderful\". \n",
    "\n",
    "Note: your results may be a bit different, depending on how weights were randomly initialized before training the embedding layer.\n",
    "\n",
    "Note: experimentally, you may be able to produce more interpretable embeddings by using a simpler model. Try deleting the `Dense(16)` layer, retraining the model, and visualizing the embeddings again.\n",
    "\n",
    "<img src=\"https://github.com/tensorflow/docs/blob/master/site/en/tutorials/text/images/embedding.jpg?raw=1\" alt=\"Screenshot of the embedding projector\" width=\"400\"/>\n"
   ]
  },
  {
   "cell_type": "markdown",
   "metadata": {
    "colab_type": "text",
    "id": "EKQ2lrhTS6hH"
   },
   "source": [
    "## Embedding visualizaton questions\n",
    "1. Load the embedding into the visualizer and search for 4 different words. For each, list the 5 closest neighbors (these are output by the visualizer after you search for a word. Use euclidean distance option). Are these what you would expect for the closest neighbors? Why do you think the embedding for some words is difficult to interpret?\n",
    "2. Compare the closest neighbors from these same words to the Word2Vec 10k pretrained embedding (available on the visualizer).\n"
   ]
  },
  {
   "cell_type": "markdown",
   "metadata": {},
   "source": [
    "Question 1\n",
    "<br>\n",
    "(1) face : 5 closest neighbors: know, hey, Wayne, amen, norm.\n",
    "<br>\n",
    "(2) walk: 5 closest neighbors: Queen, pea, merit, Cub, rese.\n",
    "<br>\n",
    "(3) feel: 5 closest neighbors: zombies, state, tly, huge, suspect\n",
    "<br>\n",
    "(4) wonderful: 5 closest neighbors: delightful, underrated, superb, subtle, rare.\n",
    "<br> Only the neighbors of the word \"wonderful\" met my expectation. I supposed that the embedding of many words may have been influenced by the complicated context of the diverse original reviews, which caused the embedding of the words difficult to interpret."
   ]
  },
  {
   "cell_type": "markdown",
   "metadata": {},
   "source": [
    "Question 2\n",
    "<br>\n",
    "(1) face : 5 closest neighbors: faces, hands, eyes, faced, facing.\n",
    "<br>\n",
    "(2) walk: 5 closest neighbors: hollywood, walking, fame, ride, walked.\n",
    "<br>\n",
    "(3) feel: 5 closest neighbors: believe, think, felt, say, argue.\n",
    "<br>\n",
    "(4) wonderful: 5 closest neighbors: wizard, weird, dreams, memorable, frank"
   ]
  },
  {
   "cell_type": "markdown",
   "metadata": {
    "colab_type": "text",
    "id": "v_XWMn5JsVsz"
   },
   "source": [
    "## Bonus Question\n",
    "Modify the embedding model and/or neural network to improve the accuracy. "
   ]
  }
 ],
 "metadata": {
  "accelerator": "GPU",
  "colab": {
   "collapsed_sections": [],
   "name": "Week 5 Lab - Text embeddings.ipynb",
   "provenance": [],
   "toc_visible": true
  },
  "kernelspec": {
   "display_name": "Python 3",
   "language": "python",
   "name": "python3"
  },
  "language_info": {
   "codemirror_mode": {
    "name": "ipython",
    "version": 3
   },
   "file_extension": ".py",
   "mimetype": "text/x-python",
   "name": "python",
   "nbconvert_exporter": "python",
   "pygments_lexer": "ipython3",
   "version": "3.7.4"
  }
 },
 "nbformat": 4,
 "nbformat_minor": 1
}
